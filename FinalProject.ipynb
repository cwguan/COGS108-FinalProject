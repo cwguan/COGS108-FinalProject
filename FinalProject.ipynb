{
 "cells": [
  {
   "cell_type": "markdown",
   "metadata": {},
   "source": [
    "# COGS 108 - Final Project "
   ]
  },
  {
   "cell_type": "markdown",
   "metadata": {},
   "source": [
    "# Overview"
   ]
  },
  {
   "cell_type": "markdown",
   "metadata": {},
   "source": [
    "*Fill in your overview here*"
   ]
  },
  {
   "cell_type": "markdown",
   "metadata": {},
   "source": [
    "# Names\n",
    "\n",
    "- Christopher Guan\n",
    "- Diana Issatayeva\n",
    "- Angela Liu\n",
    "- Ana Palma\n",
    "- Melody Xue"
   ]
  },
  {
   "cell_type": "markdown",
   "metadata": {},
   "source": [
    "# Group Members IDs\n",
    "\n",
    "- A13513127\n",
    "- A########\n",
    "- A########\n",
    "- A########\n",
    "- A########"
   ]
  },
  {
   "cell_type": "markdown",
   "metadata": {},
   "source": [
    "# Research Question"
   ]
  },
  {
   "cell_type": "markdown",
   "metadata": {},
   "source": [
    "*Fill in your research question here*"
   ]
  },
  {
   "cell_type": "markdown",
   "metadata": {},
   "source": [
    "## Background and Prior Work"
   ]
  },
  {
   "cell_type": "markdown",
   "metadata": {},
   "source": [
    "*Fill in your background and prior work here* \n",
    "\n",
    "References (include links):\n",
    "- 1)\n",
    "- 2)"
   ]
  },
  {
   "cell_type": "markdown",
   "metadata": {},
   "source": [
    "# Hypothesis\n"
   ]
  },
  {
   "cell_type": "markdown",
   "metadata": {},
   "source": [
    "*Fill in your hypotheses here*"
   ]
  },
  {
   "cell_type": "markdown",
   "metadata": {},
   "source": [
    "# Dataset(s)"
   ]
  },
  {
   "cell_type": "markdown",
   "metadata": {},
   "source": [
    "*Fill in your dataset information here*\n",
    "\n",
    "(Copy this information for each dataset)\n",
    "- Dataset Name:\n",
    "- Link to the dataset:\n",
    "- Number of observations:\n",
    "\n",
    "1-2 sentences describing each dataset. \n",
    "\n",
    "If you plan to use multiple datasets, add 1-2 sentences about how you plan to combine these datasets."
   ]
  },
  {
   "cell_type": "markdown",
   "metadata": {},
   "source": [
    "# Setup"
   ]
  },
  {
   "cell_type": "code",
   "execution_count": 1,
   "metadata": {},
   "outputs": [],
   "source": [
    "# Import libraries\n",
    "import numpy as np\n",
    "import pandas as pd\n",
    "import matplotlib.pyplot as plt\n",
    "import seaborn as sns\n",
    "import patsy\n",
    "import statsmodels.api as sm\n",
    "\n",
    "# Configure libraries\n",
    "# The seaborn library makes plots look nicer\n",
    "sns.set()\n",
    "sns.set_context('talk')\n",
    "\n",
    "# Don't display too many rows/cols of DataFrames\n",
    "pd.options.display.max_rows = 7\n",
    "pd.options.display.max_columns = 8\n",
    "\n",
    "# Round decimals when displaying DataFrames\n",
    "pd.set_option('precision', 2)"
   ]
  },
  {
   "cell_type": "markdown",
   "metadata": {},
   "source": [
    "# Data Cleaning"
   ]
  },
  {
   "cell_type": "markdown",
   "metadata": {},
   "source": [
    "Describe your data cleaning steps here."
   ]
  },
  {
   "cell_type": "markdown",
   "metadata": {},
   "source": [
    "## Education Dataset Cleaning"
   ]
  },
  {
   "cell_type": "code",
   "execution_count": 2,
   "metadata": {},
   "outputs": [
    {
     "data": {
      "text/html": [
       "<div>\n",
       "<style scoped>\n",
       "    .dataframe tbody tr th:only-of-type {\n",
       "        vertical-align: middle;\n",
       "    }\n",
       "\n",
       "    .dataframe tbody tr th {\n",
       "        vertical-align: top;\n",
       "    }\n",
       "\n",
       "    .dataframe thead th {\n",
       "        text-align: right;\n",
       "    }\n",
       "</style>\n",
       "<table border=\"1\" class=\"dataframe\">\n",
       "  <thead>\n",
       "    <tr style=\"text-align: right;\">\n",
       "      <th></th>\n",
       "      <th>FIPS Code</th>\n",
       "      <th>State</th>\n",
       "      <th>Area name</th>\n",
       "      <th>2003 Rural-urban Continuum Code</th>\n",
       "      <th>...</th>\n",
       "      <th>Percent of adults with less than a high school diploma, 2013-17</th>\n",
       "      <th>Percent of adults with a high school diploma only, 2013-17</th>\n",
       "      <th>Percent of adults completing some college or associate's degree, 2013-17</th>\n",
       "      <th>Percent of adults with a bachelor's degree or higher, 2013-17</th>\n",
       "    </tr>\n",
       "  </thead>\n",
       "  <tbody>\n",
       "    <tr>\n",
       "      <th>0</th>\n",
       "      <td>0</td>\n",
       "      <td>US</td>\n",
       "      <td>United States</td>\n",
       "      <td>NaN</td>\n",
       "      <td>...</td>\n",
       "      <td>12.7</td>\n",
       "      <td>27.3</td>\n",
       "      <td>29.1</td>\n",
       "      <td>30.9</td>\n",
       "    </tr>\n",
       "    <tr>\n",
       "      <th>1</th>\n",
       "      <td>1000</td>\n",
       "      <td>AL</td>\n",
       "      <td>Alabama</td>\n",
       "      <td>NaN</td>\n",
       "      <td>...</td>\n",
       "      <td>14.7</td>\n",
       "      <td>30.9</td>\n",
       "      <td>29.9</td>\n",
       "      <td>24.5</td>\n",
       "    </tr>\n",
       "    <tr>\n",
       "      <th>2</th>\n",
       "      <td>1001</td>\n",
       "      <td>AL</td>\n",
       "      <td>Autauga County</td>\n",
       "      <td>2.0</td>\n",
       "      <td>...</td>\n",
       "      <td>12.3</td>\n",
       "      <td>33.6</td>\n",
       "      <td>29.1</td>\n",
       "      <td>25.0</td>\n",
       "    </tr>\n",
       "    <tr>\n",
       "      <th>...</th>\n",
       "      <td>...</td>\n",
       "      <td>...</td>\n",
       "      <td>...</td>\n",
       "      <td>...</td>\n",
       "      <td>...</td>\n",
       "      <td>...</td>\n",
       "      <td>...</td>\n",
       "      <td>...</td>\n",
       "      <td>...</td>\n",
       "    </tr>\n",
       "    <tr>\n",
       "      <th>3280</th>\n",
       "      <td>72149</td>\n",
       "      <td>PR</td>\n",
       "      <td>Villalba Municipio</td>\n",
       "      <td>2.0</td>\n",
       "      <td>...</td>\n",
       "      <td>27.3</td>\n",
       "      <td>33.6</td>\n",
       "      <td>19.4</td>\n",
       "      <td>19.7</td>\n",
       "    </tr>\n",
       "    <tr>\n",
       "      <th>3281</th>\n",
       "      <td>72151</td>\n",
       "      <td>PR</td>\n",
       "      <td>Yabucoa Municipio</td>\n",
       "      <td>1.0</td>\n",
       "      <td>...</td>\n",
       "      <td>32.0</td>\n",
       "      <td>24.9</td>\n",
       "      <td>26.0</td>\n",
       "      <td>17.2</td>\n",
       "    </tr>\n",
       "    <tr>\n",
       "      <th>3282</th>\n",
       "      <td>72153</td>\n",
       "      <td>PR</td>\n",
       "      <td>Yauco Municipio</td>\n",
       "      <td>3.0</td>\n",
       "      <td>...</td>\n",
       "      <td>28.4</td>\n",
       "      <td>31.3</td>\n",
       "      <td>17.8</td>\n",
       "      <td>22.5</td>\n",
       "    </tr>\n",
       "  </tbody>\n",
       "</table>\n",
       "<p>3283 rows × 47 columns</p>\n",
       "</div>"
      ],
      "text/plain": [
       "      FIPS Code State           Area name  2003 Rural-urban Continuum Code  \\\n",
       "0             0    US       United States                              NaN   \n",
       "1          1000    AL             Alabama                              NaN   \n",
       "2          1001    AL      Autauga County                              2.0   \n",
       "...         ...   ...                 ...                              ...   \n",
       "3280      72149    PR  Villalba Municipio                              2.0   \n",
       "3281      72151    PR   Yabucoa Municipio                              1.0   \n",
       "3282      72153    PR     Yauco Municipio                              3.0   \n",
       "\n",
       "      ...  Percent of adults with less than a high school diploma, 2013-17  \\\n",
       "0     ...                                               12.7                 \n",
       "1     ...                                               14.7                 \n",
       "2     ...                                               12.3                 \n",
       "...   ...                                                ...                 \n",
       "3280  ...                                               27.3                 \n",
       "3281  ...                                               32.0                 \n",
       "3282  ...                                               28.4                 \n",
       "\n",
       "      Percent of adults with a high school diploma only, 2013-17  \\\n",
       "0                                                  27.3            \n",
       "1                                                  30.9            \n",
       "2                                                  33.6            \n",
       "...                                                 ...            \n",
       "3280                                               33.6            \n",
       "3281                                               24.9            \n",
       "3282                                               31.3            \n",
       "\n",
       "      Percent of adults completing some college or associate's degree, 2013-17  \\\n",
       "0                                                  29.1                          \n",
       "1                                                  29.9                          \n",
       "2                                                  29.1                          \n",
       "...                                                 ...                          \n",
       "3280                                               19.4                          \n",
       "3281                                               26.0                          \n",
       "3282                                               17.8                          \n",
       "\n",
       "      Percent of adults with a bachelor's degree or higher, 2013-17  \n",
       "0                                                  30.9              \n",
       "1                                                  24.5              \n",
       "2                                                  25.0              \n",
       "...                                                 ...              \n",
       "3280                                               19.7              \n",
       "3281                                               17.2              \n",
       "3282                                               22.5              \n",
       "\n",
       "[3283 rows x 47 columns]"
      ]
     },
     "metadata": {},
     "output_type": "display_data"
    }
   ],
   "source": [
    "xls_Education = pd.ExcelFile(\"Education.xls\")\n",
    "df_ed = xls_Education.parse('Education')\n",
    "display(df_ed)"
   ]
  },
  {
   "cell_type": "code",
   "execution_count": 3,
   "metadata": {
    "scrolled": false
   },
   "outputs": [
    {
     "data": {
      "text/html": [
       "<div>\n",
       "<style scoped>\n",
       "    .dataframe tbody tr th:only-of-type {\n",
       "        vertical-align: middle;\n",
       "    }\n",
       "\n",
       "    .dataframe tbody tr th {\n",
       "        vertical-align: top;\n",
       "    }\n",
       "\n",
       "    .dataframe thead th {\n",
       "        text-align: right;\n",
       "    }\n",
       "</style>\n",
       "<table border=\"1\" class=\"dataframe\">\n",
       "  <thead>\n",
       "    <tr style=\"text-align: right;\">\n",
       "      <th></th>\n",
       "      <th>FIPS Code</th>\n",
       "      <th>State</th>\n",
       "      <th>Area name</th>\n",
       "      <th>Less than a high school diploma, 2013-17</th>\n",
       "      <th>...</th>\n",
       "      <th>Percent of adults with less than a high school diploma, 2013-17</th>\n",
       "      <th>Percent of adults with a high school diploma only, 2013-17</th>\n",
       "      <th>Percent of adults completing some college or associate's degree, 2013-17</th>\n",
       "      <th>Percent of adults with a bachelor's degree or higher, 2013-17</th>\n",
       "    </tr>\n",
       "  </thead>\n",
       "  <tbody>\n",
       "    <tr>\n",
       "      <th>0</th>\n",
       "      <td>0</td>\n",
       "      <td>US</td>\n",
       "      <td>United States</td>\n",
       "      <td>2.74e+07</td>\n",
       "      <td>...</td>\n",
       "      <td>12.7</td>\n",
       "      <td>27.3</td>\n",
       "      <td>29.1</td>\n",
       "      <td>30.9</td>\n",
       "    </tr>\n",
       "    <tr>\n",
       "      <th>1</th>\n",
       "      <td>1000</td>\n",
       "      <td>AL</td>\n",
       "      <td>Alabama</td>\n",
       "      <td>4.81e+05</td>\n",
       "      <td>...</td>\n",
       "      <td>14.7</td>\n",
       "      <td>30.9</td>\n",
       "      <td>29.9</td>\n",
       "      <td>24.5</td>\n",
       "    </tr>\n",
       "    <tr>\n",
       "      <th>2</th>\n",
       "      <td>1001</td>\n",
       "      <td>AL</td>\n",
       "      <td>Autauga County</td>\n",
       "      <td>4.52e+03</td>\n",
       "      <td>...</td>\n",
       "      <td>12.3</td>\n",
       "      <td>33.6</td>\n",
       "      <td>29.1</td>\n",
       "      <td>25.0</td>\n",
       "    </tr>\n",
       "    <tr>\n",
       "      <th>...</th>\n",
       "      <td>...</td>\n",
       "      <td>...</td>\n",
       "      <td>...</td>\n",
       "      <td>...</td>\n",
       "      <td>...</td>\n",
       "      <td>...</td>\n",
       "      <td>...</td>\n",
       "      <td>...</td>\n",
       "      <td>...</td>\n",
       "    </tr>\n",
       "    <tr>\n",
       "      <th>3280</th>\n",
       "      <td>72149</td>\n",
       "      <td>PR</td>\n",
       "      <td>Villalba Municipio</td>\n",
       "      <td>4.23e+03</td>\n",
       "      <td>...</td>\n",
       "      <td>27.3</td>\n",
       "      <td>33.6</td>\n",
       "      <td>19.4</td>\n",
       "      <td>19.7</td>\n",
       "    </tr>\n",
       "    <tr>\n",
       "      <th>3281</th>\n",
       "      <td>72151</td>\n",
       "      <td>PR</td>\n",
       "      <td>Yabucoa Municipio</td>\n",
       "      <td>7.72e+03</td>\n",
       "      <td>...</td>\n",
       "      <td>32.0</td>\n",
       "      <td>24.9</td>\n",
       "      <td>26.0</td>\n",
       "      <td>17.2</td>\n",
       "    </tr>\n",
       "    <tr>\n",
       "      <th>3282</th>\n",
       "      <td>72153</td>\n",
       "      <td>PR</td>\n",
       "      <td>Yauco Municipio</td>\n",
       "      <td>7.51e+03</td>\n",
       "      <td>...</td>\n",
       "      <td>28.4</td>\n",
       "      <td>31.3</td>\n",
       "      <td>17.8</td>\n",
       "      <td>22.5</td>\n",
       "    </tr>\n",
       "  </tbody>\n",
       "</table>\n",
       "<p>3283 rows × 11 columns</p>\n",
       "</div>"
      ],
      "text/plain": [
       "      FIPS Code State           Area name  \\\n",
       "0             0    US       United States   \n",
       "1          1000    AL             Alabama   \n",
       "2          1001    AL      Autauga County   \n",
       "...         ...   ...                 ...   \n",
       "3280      72149    PR  Villalba Municipio   \n",
       "3281      72151    PR   Yabucoa Municipio   \n",
       "3282      72153    PR     Yauco Municipio   \n",
       "\n",
       "      Less than a high school diploma, 2013-17  ...  \\\n",
       "0                                     2.74e+07  ...   \n",
       "1                                     4.81e+05  ...   \n",
       "2                                     4.52e+03  ...   \n",
       "...                                        ...  ...   \n",
       "3280                                  4.23e+03  ...   \n",
       "3281                                  7.72e+03  ...   \n",
       "3282                                  7.51e+03  ...   \n",
       "\n",
       "      Percent of adults with less than a high school diploma, 2013-17  \\\n",
       "0                                                  12.7                 \n",
       "1                                                  14.7                 \n",
       "2                                                  12.3                 \n",
       "...                                                 ...                 \n",
       "3280                                               27.3                 \n",
       "3281                                               32.0                 \n",
       "3282                                               28.4                 \n",
       "\n",
       "      Percent of adults with a high school diploma only, 2013-17  \\\n",
       "0                                                  27.3            \n",
       "1                                                  30.9            \n",
       "2                                                  33.6            \n",
       "...                                                 ...            \n",
       "3280                                               33.6            \n",
       "3281                                               24.9            \n",
       "3282                                               31.3            \n",
       "\n",
       "      Percent of adults completing some college or associate's degree, 2013-17  \\\n",
       "0                                                  29.1                          \n",
       "1                                                  29.9                          \n",
       "2                                                  29.1                          \n",
       "...                                                 ...                          \n",
       "3280                                               19.4                          \n",
       "3281                                               26.0                          \n",
       "3282                                               17.8                          \n",
       "\n",
       "      Percent of adults with a bachelor's degree or higher, 2013-17  \n",
       "0                                                  30.9              \n",
       "1                                                  24.5              \n",
       "2                                                  25.0              \n",
       "...                                                 ...              \n",
       "3280                                               19.7              \n",
       "3281                                               17.2              \n",
       "3282                                               22.5              \n",
       "\n",
       "[3283 rows x 11 columns]"
      ]
     },
     "metadata": {},
     "output_type": "display_data"
    },
    {
     "data": {
      "text/plain": [
       "['FIPS Code',\n",
       " 'State',\n",
       " 'Area name',\n",
       " 'Less than a high school diploma, 2013-17',\n",
       " 'High school diploma only, 2013-17',\n",
       " \"Some college or associate's degree, 2013-17\",\n",
       " \"Bachelor's degree or higher, 2013-17\",\n",
       " 'Percent of adults with less than a high school diploma, 2013-17',\n",
       " 'Percent of adults with a high school diploma only, 2013-17',\n",
       " \"Percent of adults completing some college or associate's degree, 2013-17\",\n",
       " \"Percent of adults with a bachelor's degree or higher, 2013-17\"]"
      ]
     },
     "execution_count": 3,
     "metadata": {},
     "output_type": "execute_result"
    }
   ],
   "source": [
    "# Drop columns from previous years and keep most recent (2013-2017)\n",
    "list(df_ed)\n",
    "\n",
    "df_ed=df_ed.drop(['2003 Urban Influence Code','2013 Rural-urban Continuum Code','2003 Rural-urban Continuum Code','2013 Urban Influence Code','Less than a high school diploma, 1970',\n",
    " 'High school diploma only, 1970',\n",
    " 'Some college (1-3 years), 1970',\n",
    " 'Four years of college or higher, 1970',\n",
    " 'Percent of adults with less than a high school diploma, 1970',\n",
    " 'Percent of adults with a high school diploma only, 1970',\n",
    " 'Percent of adults completing some college (1-3 years), 1970',\n",
    " 'Percent of adults completing four years of college or higher, 1970',\n",
    " 'Less than a high school diploma, 1980',\n",
    " 'High school diploma only, 1980',\n",
    " 'Some college (1-3 years), 1980',\n",
    " 'Four years of college or higher, 1980',\n",
    " 'Percent of adults with less than a high school diploma, 1980',\n",
    " 'Percent of adults with a high school diploma only, 1980',\n",
    " 'Percent of adults completing some college (1-3 years), 1980',\n",
    " 'Percent of adults completing four years of college or higher, 1980',\n",
    " 'Less than a high school diploma, 1990',\n",
    " 'High school diploma only, 1990',\n",
    " \"Some college or associate's degree, 1990\",\n",
    " \"Bachelor's degree or higher, 1990\",\n",
    " 'Percent of adults with less than a high school diploma, 1990',\n",
    " 'Percent of adults with a high school diploma only, 1990',\n",
    " \"Percent of adults completing some college or associate's degree, 1990\",\n",
    " \"Percent of adults with a bachelor's degree or higher, 1990\",\n",
    " 'Less than a high school diploma, 2000',\n",
    " 'High school diploma only, 2000',\n",
    " \"Some college or associate's degree, 2000\",\n",
    " \"Bachelor's degree or higher, 2000\",\n",
    " 'Percent of adults with less than a high school diploma, 2000',\n",
    " 'Percent of adults with a high school diploma only, 2000',\n",
    " \"Percent of adults completing some college or associate's degree, 2000\",\n",
    " \"Percent of adults with a bachelor's degree or higher, 2000\",],axis=1)\n",
    "\n",
    "# Display the new dataframe and the column names\n",
    "display(df_ed)\n",
    "list(df_ed)"
   ]
  },
  {
   "cell_type": "code",
   "execution_count": 4,
   "metadata": {},
   "outputs": [],
   "source": [
    "# Rename the FIPS column name to be able to merge later\n",
    "df_ed=df_ed.rename(index=str, columns={\"FIPS Code\": \"FIPS\", })"
   ]
  },
  {
   "cell_type": "markdown",
   "metadata": {},
   "source": [
    "## Food Environmental Atlas Dataset Cleaning\n",
    "\n",
    "We extract only the data that we want to use in our analysis from the Atlas."
   ]
  },
  {
   "cell_type": "code",
   "execution_count": 5,
   "metadata": {},
   "outputs": [],
   "source": [
    "# Read in the data from Food Evironmental Atlas excel spreadsheet into pandas data frame\n",
    "stores_df = pd.read_excel('FoodEnvironmentAtlas.xls', sheet_name='STORES')\n",
    "health_df = pd.read_excel('FoodEnvironmentAtlas.xls', sheet_name='HEALTH')"
   ]
  },
  {
   "cell_type": "code",
   "execution_count": 6,
   "metadata": {},
   "outputs": [],
   "source": [
    "# Separate the neccessary columns from the table\n",
    "stores_var_list = ['GROC14', 'GROCPTH14', 'FIPS']\n",
    "stores_df = stores_df[stores_var_list]\n",
    "\n",
    "health_var_list = ['PCT_OBESE_ADULTS13', 'RECFAC14', 'RECFACPTH14', 'FIPS']\n",
    "health_df = health_df[health_var_list]"
   ]
  },
  {
   "cell_type": "code",
   "execution_count": 7,
   "metadata": {},
   "outputs": [
    {
     "data": {
      "text/html": [
       "<div>\n",
       "<style scoped>\n",
       "    .dataframe tbody tr th:only-of-type {\n",
       "        vertical-align: middle;\n",
       "    }\n",
       "\n",
       "    .dataframe tbody tr th {\n",
       "        vertical-align: top;\n",
       "    }\n",
       "\n",
       "    .dataframe thead th {\n",
       "        text-align: right;\n",
       "    }\n",
       "</style>\n",
       "<table border=\"1\" class=\"dataframe\">\n",
       "  <thead>\n",
       "    <tr style=\"text-align: right;\">\n",
       "      <th></th>\n",
       "      <th>GROC14</th>\n",
       "      <th>GROCPTH14</th>\n",
       "      <th>FIPS</th>\n",
       "    </tr>\n",
       "  </thead>\n",
       "  <tbody>\n",
       "    <tr>\n",
       "      <th>0</th>\n",
       "      <td>4</td>\n",
       "      <td>0.07</td>\n",
       "      <td>1001</td>\n",
       "    </tr>\n",
       "    <tr>\n",
       "      <th>1</th>\n",
       "      <td>29</td>\n",
       "      <td>0.14</td>\n",
       "      <td>1003</td>\n",
       "    </tr>\n",
       "    <tr>\n",
       "      <th>2</th>\n",
       "      <td>5</td>\n",
       "      <td>0.19</td>\n",
       "      <td>1005</td>\n",
       "    </tr>\n",
       "    <tr>\n",
       "      <th>...</th>\n",
       "      <td>...</td>\n",
       "      <td>...</td>\n",
       "      <td>...</td>\n",
       "    </tr>\n",
       "    <tr>\n",
       "      <th>3140</th>\n",
       "      <td>2</td>\n",
       "      <td>0.10</td>\n",
       "      <td>56041</td>\n",
       "    </tr>\n",
       "    <tr>\n",
       "      <th>3141</th>\n",
       "      <td>2</td>\n",
       "      <td>0.24</td>\n",
       "      <td>56043</td>\n",
       "    </tr>\n",
       "    <tr>\n",
       "      <th>3142</th>\n",
       "      <td>4</td>\n",
       "      <td>0.56</td>\n",
       "      <td>56045</td>\n",
       "    </tr>\n",
       "  </tbody>\n",
       "</table>\n",
       "<p>3143 rows × 3 columns</p>\n",
       "</div>"
      ],
      "text/plain": [
       "      GROC14  GROCPTH14   FIPS\n",
       "0          4       0.07   1001\n",
       "1         29       0.14   1003\n",
       "2          5       0.19   1005\n",
       "...      ...        ...    ...\n",
       "3140       2       0.10  56041\n",
       "3141       2       0.24  56043\n",
       "3142       4       0.56  56045\n",
       "\n",
       "[3143 rows x 3 columns]"
      ]
     },
     "execution_count": 7,
     "metadata": {},
     "output_type": "execute_result"
    }
   ],
   "source": [
    "stores_df"
   ]
  },
  {
   "cell_type": "code",
   "execution_count": 8,
   "metadata": {},
   "outputs": [
    {
     "data": {
      "text/html": [
       "<div>\n",
       "<style scoped>\n",
       "    .dataframe tbody tr th:only-of-type {\n",
       "        vertical-align: middle;\n",
       "    }\n",
       "\n",
       "    .dataframe tbody tr th {\n",
       "        vertical-align: top;\n",
       "    }\n",
       "\n",
       "    .dataframe thead th {\n",
       "        text-align: right;\n",
       "    }\n",
       "</style>\n",
       "<table border=\"1\" class=\"dataframe\">\n",
       "  <thead>\n",
       "    <tr style=\"text-align: right;\">\n",
       "      <th></th>\n",
       "      <th>PCT_OBESE_ADULTS13</th>\n",
       "      <th>RECFAC14</th>\n",
       "      <th>RECFACPTH14</th>\n",
       "      <th>FIPS</th>\n",
       "    </tr>\n",
       "  </thead>\n",
       "  <tbody>\n",
       "    <tr>\n",
       "      <th>0</th>\n",
       "      <td>34.1</td>\n",
       "      <td>5</td>\n",
       "      <td>0.09</td>\n",
       "      <td>1001</td>\n",
       "    </tr>\n",
       "    <tr>\n",
       "      <th>1</th>\n",
       "      <td>27.4</td>\n",
       "      <td>25</td>\n",
       "      <td>0.12</td>\n",
       "      <td>1003</td>\n",
       "    </tr>\n",
       "    <tr>\n",
       "      <th>2</th>\n",
       "      <td>44.4</td>\n",
       "      <td>0</td>\n",
       "      <td>0.00</td>\n",
       "      <td>1005</td>\n",
       "    </tr>\n",
       "    <tr>\n",
       "      <th>...</th>\n",
       "      <td>...</td>\n",
       "      <td>...</td>\n",
       "      <td>...</td>\n",
       "      <td>...</td>\n",
       "    </tr>\n",
       "    <tr>\n",
       "      <th>3140</th>\n",
       "      <td>27.9</td>\n",
       "      <td>2</td>\n",
       "      <td>0.10</td>\n",
       "      <td>56041</td>\n",
       "    </tr>\n",
       "    <tr>\n",
       "      <th>3141</th>\n",
       "      <td>27.7</td>\n",
       "      <td>1</td>\n",
       "      <td>0.12</td>\n",
       "      <td>56043</td>\n",
       "    </tr>\n",
       "    <tr>\n",
       "      <th>3142</th>\n",
       "      <td>29.2</td>\n",
       "      <td>0</td>\n",
       "      <td>0.00</td>\n",
       "      <td>56045</td>\n",
       "    </tr>\n",
       "  </tbody>\n",
       "</table>\n",
       "<p>3143 rows × 4 columns</p>\n",
       "</div>"
      ],
      "text/plain": [
       "      PCT_OBESE_ADULTS13  RECFAC14  RECFACPTH14   FIPS\n",
       "0                   34.1         5         0.09   1001\n",
       "1                   27.4        25         0.12   1003\n",
       "2                   44.4         0         0.00   1005\n",
       "...                  ...       ...          ...    ...\n",
       "3140                27.9         2         0.10  56041\n",
       "3141                27.7         1         0.12  56043\n",
       "3142                29.2         0         0.00  56045\n",
       "\n",
       "[3143 rows x 4 columns]"
      ]
     },
     "execution_count": 8,
     "metadata": {},
     "output_type": "execute_result"
    }
   ],
   "source": [
    "health_df"
   ]
  },
  {
   "cell_type": "code",
   "execution_count": 9,
   "metadata": {},
   "outputs": [],
   "source": [
    "# Merging two Atlas dataframes on FIPS column\n",
    "df_merged = stores_df.merge(health_df, left_on='FIPS', right_on='FIPS')"
   ]
  },
  {
   "cell_type": "code",
   "execution_count": 10,
   "metadata": {},
   "outputs": [
    {
     "data": {
      "text/html": [
       "<div>\n",
       "<style scoped>\n",
       "    .dataframe tbody tr th:only-of-type {\n",
       "        vertical-align: middle;\n",
       "    }\n",
       "\n",
       "    .dataframe tbody tr th {\n",
       "        vertical-align: top;\n",
       "    }\n",
       "\n",
       "    .dataframe thead th {\n",
       "        text-align: right;\n",
       "    }\n",
       "</style>\n",
       "<table border=\"1\" class=\"dataframe\">\n",
       "  <thead>\n",
       "    <tr style=\"text-align: right;\">\n",
       "      <th></th>\n",
       "      <th>FIPS</th>\n",
       "      <th>GROC14</th>\n",
       "      <th>GROCPTH14</th>\n",
       "      <th>PCT_OBESE_ADULTS13</th>\n",
       "      <th>RECFAC14</th>\n",
       "      <th>RECFACPTH14</th>\n",
       "    </tr>\n",
       "  </thead>\n",
       "  <tbody>\n",
       "    <tr>\n",
       "      <th>0</th>\n",
       "      <td>1001</td>\n",
       "      <td>4</td>\n",
       "      <td>0.07</td>\n",
       "      <td>34.1</td>\n",
       "      <td>5</td>\n",
       "      <td>0.09</td>\n",
       "    </tr>\n",
       "    <tr>\n",
       "      <th>1</th>\n",
       "      <td>1003</td>\n",
       "      <td>29</td>\n",
       "      <td>0.14</td>\n",
       "      <td>27.4</td>\n",
       "      <td>25</td>\n",
       "      <td>0.12</td>\n",
       "    </tr>\n",
       "    <tr>\n",
       "      <th>2</th>\n",
       "      <td>1005</td>\n",
       "      <td>5</td>\n",
       "      <td>0.19</td>\n",
       "      <td>44.4</td>\n",
       "      <td>0</td>\n",
       "      <td>0.00</td>\n",
       "    </tr>\n",
       "    <tr>\n",
       "      <th>...</th>\n",
       "      <td>...</td>\n",
       "      <td>...</td>\n",
       "      <td>...</td>\n",
       "      <td>...</td>\n",
       "      <td>...</td>\n",
       "      <td>...</td>\n",
       "    </tr>\n",
       "    <tr>\n",
       "      <th>3140</th>\n",
       "      <td>56041</td>\n",
       "      <td>2</td>\n",
       "      <td>0.10</td>\n",
       "      <td>27.9</td>\n",
       "      <td>2</td>\n",
       "      <td>0.10</td>\n",
       "    </tr>\n",
       "    <tr>\n",
       "      <th>3141</th>\n",
       "      <td>56043</td>\n",
       "      <td>2</td>\n",
       "      <td>0.24</td>\n",
       "      <td>27.7</td>\n",
       "      <td>1</td>\n",
       "      <td>0.12</td>\n",
       "    </tr>\n",
       "    <tr>\n",
       "      <th>3142</th>\n",
       "      <td>56045</td>\n",
       "      <td>4</td>\n",
       "      <td>0.56</td>\n",
       "      <td>29.2</td>\n",
       "      <td>0</td>\n",
       "      <td>0.00</td>\n",
       "    </tr>\n",
       "  </tbody>\n",
       "</table>\n",
       "<p>3143 rows × 6 columns</p>\n",
       "</div>"
      ],
      "text/plain": [
       "       FIPS  GROC14  GROCPTH14  PCT_OBESE_ADULTS13  RECFAC14  RECFACPTH14\n",
       "0      1001       4       0.07                34.1         5         0.09\n",
       "1      1003      29       0.14                27.4        25         0.12\n",
       "2      1005       5       0.19                44.4         0         0.00\n",
       "...     ...     ...        ...                 ...       ...          ...\n",
       "3140  56041       2       0.10                27.9         2         0.10\n",
       "3141  56043       2       0.24                27.7         1         0.12\n",
       "3142  56045       4       0.56                29.2         0         0.00\n",
       "\n",
       "[3143 rows x 6 columns]"
      ]
     },
     "execution_count": 10,
     "metadata": {},
     "output_type": "execute_result"
    }
   ],
   "source": [
    "# Put FIPS column first \n",
    "# Get a list of columns\n",
    "cols = list(df_merged)\n",
    "\n",
    "# Move the column to head of list using index, pop and insert\n",
    "cols.insert(0, cols.pop(cols.index('FIPS')))\n",
    "df_merged = df_merged.loc[:, cols]\n",
    "df_merged"
   ]
  },
  {
   "cell_type": "code",
   "execution_count": 11,
   "metadata": {},
   "outputs": [],
   "source": [
    "# Rename the column names to be more clear\n",
    "df_merged = df_merged.rename(index=str, columns={\"GROC14\": \"GROC_STORES_COUNT_2014\", \"GROCPTH14\": \"GROC_STORES_PER1000_2014\", \"PCT_OBESE_ADULTS13\": \"ADULT_OBESITY_RATE_2013\", \"RECFAC14\": \"RECREATION_FITNESS_FACIL_COUNT_2014\", \"RECFACPTH14\": \"RECREATION_FITNESS_FACIL_PER1000_2014\" })"
   ]
  },
  {
   "cell_type": "code",
   "execution_count": 12,
   "metadata": {},
   "outputs": [
    {
     "data": {
      "text/plain": [
       "FIPS                                       int64\n",
       "GROC_STORES_COUNT_2014                     int64\n",
       "GROC_STORES_PER1000_2014                 float64\n",
       "ADULT_OBESITY_RATE_2013                  float64\n",
       "RECREATION_FITNESS_FACIL_COUNT_2014        int64\n",
       "RECREATION_FITNESS_FACIL_PER1000_2014    float64\n",
       "dtype: object"
      ]
     },
     "execution_count": 12,
     "metadata": {},
     "output_type": "execute_result"
    }
   ],
   "source": [
    "# Check for data types from the Atlas dataset\n",
    "df_merged.dtypes"
   ]
  },
  {
   "cell_type": "code",
   "execution_count": 13,
   "metadata": {
    "scrolled": true
   },
   "outputs": [
    {
     "data": {
      "text/plain": [
       "FIPS                                                                          int64\n",
       "State                                                                        object\n",
       "Area name                                                                    object\n",
       "                                                                             ...   \n",
       "Percent of adults with a high school diploma only, 2013-17                  float64\n",
       "Percent of adults completing some college or associate's degree, 2013-17    float64\n",
       "Percent of adults with a bachelor's degree or higher, 2013-17               float64\n",
       "Length: 11, dtype: object"
      ]
     },
     "execution_count": 13,
     "metadata": {},
     "output_type": "execute_result"
    }
   ],
   "source": [
    "# Check for data types from the Education dataset\n",
    "df_ed.dtypes"
   ]
  },
  {
   "cell_type": "code",
   "execution_count": 14,
   "metadata": {},
   "outputs": [
    {
     "data": {
      "text/html": [
       "<div>\n",
       "<style scoped>\n",
       "    .dataframe tbody tr th:only-of-type {\n",
       "        vertical-align: middle;\n",
       "    }\n",
       "\n",
       "    .dataframe tbody tr th {\n",
       "        vertical-align: top;\n",
       "    }\n",
       "\n",
       "    .dataframe thead th {\n",
       "        text-align: right;\n",
       "    }\n",
       "</style>\n",
       "<table border=\"1\" class=\"dataframe\">\n",
       "  <thead>\n",
       "    <tr style=\"text-align: right;\">\n",
       "      <th></th>\n",
       "      <th>FIPS</th>\n",
       "      <th>State</th>\n",
       "      <th>Area name</th>\n",
       "      <th>Less than a high school diploma, 2013-17</th>\n",
       "      <th>...</th>\n",
       "      <th>GROC_STORES_PER1000_2014</th>\n",
       "      <th>ADULT_OBESITY_RATE_2013</th>\n",
       "      <th>RECREATION_FITNESS_FACIL_COUNT_2014</th>\n",
       "      <th>RECREATION_FITNESS_FACIL_PER1000_2014</th>\n",
       "    </tr>\n",
       "  </thead>\n",
       "  <tbody>\n",
       "    <tr>\n",
       "      <th>0</th>\n",
       "      <td>1001</td>\n",
       "      <td>AL</td>\n",
       "      <td>Autauga County</td>\n",
       "      <td>4521.0</td>\n",
       "      <td>...</td>\n",
       "      <td>0.07</td>\n",
       "      <td>34.1</td>\n",
       "      <td>5</td>\n",
       "      <td>0.09</td>\n",
       "    </tr>\n",
       "    <tr>\n",
       "      <th>1</th>\n",
       "      <td>1003</td>\n",
       "      <td>AL</td>\n",
       "      <td>Baldwin County</td>\n",
       "      <td>13997.0</td>\n",
       "      <td>...</td>\n",
       "      <td>0.14</td>\n",
       "      <td>27.4</td>\n",
       "      <td>25</td>\n",
       "      <td>0.12</td>\n",
       "    </tr>\n",
       "    <tr>\n",
       "      <th>2</th>\n",
       "      <td>1005</td>\n",
       "      <td>AL</td>\n",
       "      <td>Barbour County</td>\n",
       "      <td>4960.0</td>\n",
       "      <td>...</td>\n",
       "      <td>0.19</td>\n",
       "      <td>44.4</td>\n",
       "      <td>0</td>\n",
       "      <td>0.00</td>\n",
       "    </tr>\n",
       "    <tr>\n",
       "      <th>...</th>\n",
       "      <td>...</td>\n",
       "      <td>...</td>\n",
       "      <td>...</td>\n",
       "      <td>...</td>\n",
       "      <td>...</td>\n",
       "      <td>...</td>\n",
       "      <td>...</td>\n",
       "      <td>...</td>\n",
       "      <td>...</td>\n",
       "    </tr>\n",
       "    <tr>\n",
       "      <th>3138</th>\n",
       "      <td>56041</td>\n",
       "      <td>WY</td>\n",
       "      <td>Uinta County</td>\n",
       "      <td>1067.0</td>\n",
       "      <td>...</td>\n",
       "      <td>0.10</td>\n",
       "      <td>27.9</td>\n",
       "      <td>2</td>\n",
       "      <td>0.10</td>\n",
       "    </tr>\n",
       "    <tr>\n",
       "      <th>3139</th>\n",
       "      <td>56043</td>\n",
       "      <td>WY</td>\n",
       "      <td>Washakie County</td>\n",
       "      <td>654.0</td>\n",
       "      <td>...</td>\n",
       "      <td>0.24</td>\n",
       "      <td>27.7</td>\n",
       "      <td>1</td>\n",
       "      <td>0.12</td>\n",
       "    </tr>\n",
       "    <tr>\n",
       "      <th>3140</th>\n",
       "      <td>56045</td>\n",
       "      <td>WY</td>\n",
       "      <td>Weston County</td>\n",
       "      <td>410.0</td>\n",
       "      <td>...</td>\n",
       "      <td>0.56</td>\n",
       "      <td>29.2</td>\n",
       "      <td>0</td>\n",
       "      <td>0.00</td>\n",
       "    </tr>\n",
       "  </tbody>\n",
       "</table>\n",
       "<p>3141 rows × 16 columns</p>\n",
       "</div>"
      ],
      "text/plain": [
       "       FIPS State        Area name  Less than a high school diploma, 2013-17  \\\n",
       "0      1001    AL   Autauga County                                    4521.0   \n",
       "1      1003    AL   Baldwin County                                   13997.0   \n",
       "2      1005    AL   Barbour County                                    4960.0   \n",
       "...     ...   ...              ...                                       ...   \n",
       "3138  56041    WY     Uinta County                                    1067.0   \n",
       "3139  56043    WY  Washakie County                                     654.0   \n",
       "3140  56045    WY    Weston County                                     410.0   \n",
       "\n",
       "      ...  GROC_STORES_PER1000_2014  ADULT_OBESITY_RATE_2013  \\\n",
       "0     ...                      0.07                     34.1   \n",
       "1     ...                      0.14                     27.4   \n",
       "2     ...                      0.19                     44.4   \n",
       "...   ...                       ...                      ...   \n",
       "3138  ...                      0.10                     27.9   \n",
       "3139  ...                      0.24                     27.7   \n",
       "3140  ...                      0.56                     29.2   \n",
       "\n",
       "      RECREATION_FITNESS_FACIL_COUNT_2014  \\\n",
       "0                                       5   \n",
       "1                                      25   \n",
       "2                                       0   \n",
       "...                                   ...   \n",
       "3138                                    2   \n",
       "3139                                    1   \n",
       "3140                                    0   \n",
       "\n",
       "      RECREATION_FITNESS_FACIL_PER1000_2014  \n",
       "0                                      0.09  \n",
       "1                                      0.12  \n",
       "2                                      0.00  \n",
       "...                                     ...  \n",
       "3138                                   0.10  \n",
       "3139                                   0.12  \n",
       "3140                                   0.00  \n",
       "\n",
       "[3141 rows x 16 columns]"
      ]
     },
     "metadata": {},
     "output_type": "display_data"
    }
   ],
   "source": [
    "# Merging the Education and Food Environmental Atlas dataframes together on FIPS column\n",
    "df = df_ed.merge(df_merged, left_on='FIPS', right_on='FIPS')\n",
    "display(df)"
   ]
  },
  {
   "cell_type": "code",
   "execution_count": 15,
   "metadata": {},
   "outputs": [
    {
     "data": {
      "text/plain": [
       "['FIPS',\n",
       " 'State',\n",
       " 'Area name',\n",
       " 'Less than a high school diploma, 2013-17',\n",
       " 'High school diploma only, 2013-17',\n",
       " \"Some college or associate's degree, 2013-17\",\n",
       " \"Bachelor's degree or higher, 2013-17\",\n",
       " 'Percent of adults with less than a high school diploma, 2013-17',\n",
       " 'Percent of adults with a high school diploma only, 2013-17',\n",
       " \"Percent of adults completing some college or associate's degree, 2013-17\",\n",
       " \"Percent of adults with a bachelor's degree or higher, 2013-17\",\n",
       " 'GROC_STORES_COUNT_2014',\n",
       " 'GROC_STORES_PER1000_2014',\n",
       " 'ADULT_OBESITY_RATE_2013',\n",
       " 'RECREATION_FITNESS_FACIL_COUNT_2014',\n",
       " 'RECREATION_FITNESS_FACIL_PER1000_2014']"
      ]
     },
     "execution_count": 15,
     "metadata": {},
     "output_type": "execute_result"
    }
   ],
   "source": [
    "# Display the columns in the final, merged dataframe\n",
    "list(df)"
   ]
  },
  {
   "cell_type": "code",
   "execution_count": 16,
   "metadata": {},
   "outputs": [],
   "source": [
    "# # Testing to see what it would like with ALL counties\n",
    "# df = df.sort_values(by='ADULT_OBESITY_RATE_2013')\n",
    "# df = df.reset_index(drop=True)\n",
    "# display(df)\n",
    "\n",
    "# df.ADULT_OBESITY_RATE_2013.plot(figsize=(20,10))\n",
    "# df.RECREATION_FITNESS_FACIL_COUNT_2014.plot(secondary_y=True)"
   ]
  },
  {
   "cell_type": "markdown",
   "metadata": {},
   "source": [
    "# Data Analysis & Results"
   ]
  },
  {
   "cell_type": "markdown",
   "metadata": {},
   "source": [
    "Include cells that describe the steps in your data analysis."
   ]
  },
  {
   "cell_type": "markdown",
   "metadata": {},
   "source": [
    "**Each point on the following scatter plots represents one of the counties in the United States**"
   ]
  },
  {
   "cell_type": "markdown",
   "metadata": {},
   "source": [
    "## Obesity Rate vs. Recreation/Fitness Facilities Per 1000 People\n",
    "\n",
    "Here, we plot the obesity rate against how many recreation/fitness facilities a county has per 1000 people to give us an idea about how facility access can affect obesity rates."
   ]
  },
  {
   "cell_type": "markdown",
   "metadata": {},
   "source": [
    "### Scatter Plot"
   ]
  },
  {
   "cell_type": "code",
   "execution_count": 17,
   "metadata": {},
   "outputs": [
    {
     "data": {
      "image/png": "[encoded data removed]",
      "text/plain": [
       "<Figure size 864x720 with 1 Axes>"
      ]
     },
     "metadata": {
      "needs_background": "light"
     },
     "output_type": "display_data"
    }
   ],
   "source": [
    "df.plot.scatter(x='ADULT_OBESITY_RATE_2013', y='RECREATION_FITNESS_FACIL_PER1000_2014', c='#2E4057', figsize=(12,10))\n",
    "plt.xlabel('\\nPercentage of Obese Adults (2013)')\n",
    "plt.ylabel('Number of Rec/Fitness Facilities per 1000 People (2014)\\n')\n",
    "plt.show()"
   ]
  },
  {
   "cell_type": "markdown",
   "metadata": {},
   "source": [
    "### OLS Regression"
   ]
  },
  {
   "cell_type": "code",
   "execution_count": 18,
   "metadata": {},
   "outputs": [
    {
     "name": "stdout",
     "output_type": "stream",
     "text": [
      "                               OLS Regression Results                              \n",
      "===================================================================================\n",
      "Dep. Variable:     ADULT_OBESITY_RATE_2013   R-squared:                       0.075\n",
      "Model:                                 OLS   Adj. R-squared:                  0.074\n",
      "Method:                      Least Squares   F-statistic:                     252.9\n",
      "Date:                     Thu, 16 May 2019   Prob (F-statistic):           8.04e-55\n",
      "Time:                             23:19:35   Log-Likelihood:                -9069.7\n",
      "No. Observations:                     3140   AIC:                         1.814e+04\n",
      "Df Residuals:                         3138   BIC:                         1.816e+04\n",
      "Df Model:                                1                                         \n",
      "Covariance Type:                 nonrobust                                         \n",
      "=========================================================================================================\n",
      "                                            coef    std err          t      P>|t|      [0.025      0.975]\n",
      "---------------------------------------------------------------------------------------------------------\n",
      "Intercept                                32.1909      0.107    300.044      0.000      31.981      32.401\n",
      "RECREATION_FITNESS_FACIL_PER1000_2014   -17.1050      1.076    -15.902      0.000     -19.214     -14.996\n",
      "==============================================================================\n",
      "Omnibus:                       51.524   Durbin-Watson:                   1.038\n",
      "Prob(Omnibus):                  0.000   Jarque-Bera (JB):               72.163\n",
      "Skew:                          -0.195   Prob(JB):                     2.14e-16\n",
      "Kurtosis:                       3.632   Cond. No.                         13.9\n",
      "==============================================================================\n",
      "\n",
      "Warnings:\n",
      "[1] Standard Errors assume that the covariance matrix of the errors is correctly specified.\n"
     ]
    }
   ],
   "source": [
    "outcome, predictors = patsy.dmatrices('ADULT_OBESITY_RATE_2013 ~ RECREATION_FITNESS_FACIL_PER1000_2014', df)\n",
    "mod = sm.OLS(outcome, predictors)\n",
    "res = mod.fit()\n",
    "print(res.summary())"
   ]
  },
  {
   "cell_type": "markdown",
   "metadata": {},
   "source": [
    "## Obesity Rate vs. Grocery Stores Per 1000 People\n",
    "\n",
    "Here, we plot the obesity rate against how many groceries store a county has per 1000 people to give us an idea about how grocery store access can affect obesity rates."
   ]
  },
  {
   "cell_type": "markdown",
   "metadata": {},
   "source": [
    "### Scatter Plot"
   ]
  },
  {
   "cell_type": "code",
   "execution_count": 19,
   "metadata": {},
   "outputs": [
    {
     "data": {
      "image/png": "[encoded data removed]",
      "text/plain": [
       "<Figure size 864x720 with 1 Axes>"
      ]
     },
     "metadata": {
      "needs_background": "light"
     },
     "output_type": "display_data"
    }
   ],
   "source": [
    "df.plot.scatter(x='ADULT_OBESITY_RATE_2013', y='GROC_STORES_PER1000_2014', c='#06A77D', figsize=(12,10))\n",
    "plt.xlabel('\\nPercentage of Obese Adults (2013)')\n",
    "plt.ylabel('Number of Grocery Stores per 1000 People (2014)\\n')\n",
    "plt.show()"
   ]
  },
  {
   "cell_type": "markdown",
   "metadata": {},
   "source": [
    "### OLS Regression"
   ]
  },
  {
   "cell_type": "code",
   "execution_count": 20,
   "metadata": {},
   "outputs": [
    {
     "name": "stdout",
     "output_type": "stream",
     "text": [
      "                               OLS Regression Results                              \n",
      "===================================================================================\n",
      "Dep. Variable:     ADULT_OBESITY_RATE_2013   R-squared:                       0.013\n",
      "Model:                                 OLS   Adj. R-squared:                  0.012\n",
      "Method:                      Least Squares   F-statistic:                     40.28\n",
      "Date:                     Thu, 16 May 2019   Prob (F-statistic):           2.51e-10\n",
      "Time:                             23:19:36   Log-Likelihood:                -9171.4\n",
      "No. Observations:                     3140   AIC:                         1.835e+04\n",
      "Df Residuals:                         3138   BIC:                         1.836e+04\n",
      "Df Model:                                1                                         \n",
      "Covariance Type:                 nonrobust                                         \n",
      "============================================================================================\n",
      "                               coef    std err          t      P>|t|      [0.025      0.975]\n",
      "--------------------------------------------------------------------------------------------\n",
      "Intercept                   31.5963      0.122    259.043      0.000      31.357      31.835\n",
      "GROC_STORES_PER1000_2014    -2.3200      0.366     -6.347      0.000      -3.037      -1.603\n",
      "==============================================================================\n",
      "Omnibus:                       91.626   Durbin-Watson:                   1.019\n",
      "Prob(Omnibus):                  0.000   Jarque-Bera (JB):              145.122\n",
      "Skew:                          -0.273   Prob(JB):                     3.07e-32\n",
      "Kurtosis:                       3.901   Cond. No.                         4.86\n",
      "==============================================================================\n",
      "\n",
      "Warnings:\n",
      "[1] Standard Errors assume that the covariance matrix of the errors is correctly specified.\n"
     ]
    }
   ],
   "source": [
    "outcome, predictors = patsy.dmatrices('ADULT_OBESITY_RATE_2013 ~ GROC_STORES_PER1000_2014', df)\n",
    "mod = sm.OLS(outcome, predictors)\n",
    "res = mod.fit()\n",
    "print(res.summary())"
   ]
  },
  {
   "cell_type": "markdown",
   "metadata": {},
   "source": [
    "## Previous 2 Predictors Combined\n",
    "Cannot combine with level of education (below) since it is a categorical variable"
   ]
  },
  {
   "cell_type": "code",
   "execution_count": 21,
   "metadata": {},
   "outputs": [
    {
     "name": "stdout",
     "output_type": "stream",
     "text": [
      "                               OLS Regression Results                              \n",
      "===================================================================================\n",
      "Dep. Variable:     ADULT_OBESITY_RATE_2013   R-squared:                       0.094\n",
      "Model:                                 OLS   Adj. R-squared:                  0.094\n",
      "Method:                      Least Squares   F-statistic:                     163.6\n",
      "Date:                     Thu, 16 May 2019   Prob (F-statistic):           2.71e-68\n",
      "Time:                             23:19:36   Log-Likelihood:                -9035.7\n",
      "No. Observations:                     3140   AIC:                         1.808e+04\n",
      "Df Residuals:                         3137   BIC:                         1.810e+04\n",
      "Df Model:                                2                                         \n",
      "Covariance Type:                 nonrobust                                         \n",
      "=========================================================================================================\n",
      "                                            coef    std err          t      P>|t|      [0.025      0.975]\n",
      "---------------------------------------------------------------------------------------------------------\n",
      "Intercept                                32.9868      0.143    230.523      0.000      32.706      33.267\n",
      "RECREATION_FITNESS_FACIL_PER1000_2014   -18.0017      1.070    -16.829      0.000     -20.099     -15.904\n",
      "GROC_STORES_PER1000_2014                 -2.9186      0.352     -8.293      0.000      -3.609      -2.229\n",
      "==============================================================================\n",
      "Omnibus:                       44.520   Durbin-Watson:                   1.059\n",
      "Prob(Omnibus):                  0.000   Jarque-Bera (JB):               65.804\n",
      "Skew:                          -0.152   Prob(JB):                     5.14e-15\n",
      "Kurtosis:                       3.641   Cond. No.                         14.5\n",
      "==============================================================================\n",
      "\n",
      "Warnings:\n",
      "[1] Standard Errors assume that the covariance matrix of the errors is correctly specified.\n"
     ]
    }
   ],
   "source": [
    "outcome, predictors = patsy.dmatrices('ADULT_OBESITY_RATE_2013 ~ RECREATION_FITNESS_FACIL_PER1000_2014 + GROC_STORES_PER1000_2014', df)\n",
    "mod = sm.OLS(outcome, predictors)\n",
    "res = mod.fit()\n",
    "print(res.summary())"
   ]
  },
  {
   "cell_type": "markdown",
   "metadata": {},
   "source": [
    "## Obesity Rate vs. Percentage with 'Some College' and 'Bachelor's Degree or Higher'\n",
    "\n",
    "Here, we plot the obesity rate against the percentage of adults in a county that have some college, an associate's, a bachelor's or higher. This is to give us an idea how a population's education level might affect obesity rates."
   ]
  },
  {
   "cell_type": "code",
   "execution_count": 22,
   "metadata": {},
   "outputs": [
    {
     "data": {
      "image/png": "[encoded data removed]",
      "text/plain": [
       "<Figure size 864x720 with 1 Axes>"
      ]
     },
     "metadata": {
      "needs_background": "light"
     },
     "output_type": "display_data"
    }
   ],
   "source": [
    "# Create and add a new column for % adults w/ some college or higher\n",
    "df['College'] =  df[['Percent of adults completing some college or associate\\'s degree, 2013-17', 'Percent of adults with a bachelor\\'s degree or higher, 2013-17']].sum(axis=1)\n",
    "df.plot.scatter(x='ADULT_OBESITY_RATE_2013', y='College', c='#F77F00', figsize=(12,10))\n",
    "plt.xlabel('\\nPercentage of Obese Adults (2013)')\n",
    "plt.ylabel('Percentage of Adults with Some college or Higher\\n')\n",
    "plt.show()"
   ]
  },
  {
   "cell_type": "markdown",
   "metadata": {},
   "source": [
    "## TODO Chi-Squared Test for Level of Education?"
   ]
  },
  {
   "cell_type": "markdown",
   "metadata": {},
   "source": [
    "# Ethics & Privacy"
   ]
  },
  {
   "cell_type": "markdown",
   "metadata": {},
   "source": [
    "*Fill in your ethics & privacy discussion here*"
   ]
  },
  {
   "cell_type": "markdown",
   "metadata": {},
   "source": [
    "# Conclusion & Discussion"
   ]
  },
  {
   "cell_type": "markdown",
   "metadata": {},
   "source": [
    "*Fill in your discussion information here*"
   ]
  },
  {
   "cell_type": "markdown",
   "metadata": {},
   "source": [
    "Potential discussion topic to mention: doesn't mention quality of grocery stores or rec/fitness facilities.\n",
    "\n",
    "Are the grocery stores affordable? High-end facilitities like luxury gyms/classes or community/city ran rec centers? etc. etc."
   ]
  },
  {
   "cell_type": "code",
   "execution_count": null,
   "metadata": {},
   "outputs": [],
   "source": []
  }
 ],
 "metadata": {
  "kernelspec": {
   "display_name": "Python 3",
   "language": "python",
   "name": "python3"
  },
  "language_info": {
   "codemirror_mode": {
    "name": "ipython",
    "version": 3
   },
   "file_extension": ".py",
   "mimetype": "text/x-python",
   "name": "python",
   "nbconvert_exporter": "python",
   "pygments_lexer": "ipython3",
   "version": "3.6.2"
  }
 },
 "nbformat": 4,
 "nbformat_minor": 2
}
